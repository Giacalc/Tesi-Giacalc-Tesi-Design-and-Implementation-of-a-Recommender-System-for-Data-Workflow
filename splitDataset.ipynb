{
 "cells": [
  {
   "cell_type": "code",
   "execution_count": null,
   "outputs": [],
   "source": [
    "from google.colab import drive\n",
    "\n",
    "drive.mount('/content/drive')"
   ],
   "metadata": {
    "collapsed": false
   },
   "id": "73a9e449a4339782"
  },
  {
   "cell_type": "code",
   "execution_count": null,
   "outputs": [],
   "source": [
    "import os\n",
    "import shutil\n",
    "import random\n",
    "\n",
    "directory = '/content/drive/My Drive/DatabaseTesi/TEST_RAG/noAnnotation'\n",
    "train_dir = '/content/drive/My Drive/DatabaseTesi/TEST_RAG/train'\n",
    "test_dir = '/content/drive/My Drive/DatabaseTesi/TEST_RAG/test'\n",
    "\n",
    "os.makedirs(train_dir, exist_ok=True)\n",
    "os.makedirs(test_dir, exist_ok=True)\n",
    "\n",
    "all_files = [f for f in os.listdir(directory) if os.path.isfile(os.path.join(directory, f))]\n",
    "\n",
    "small_files = [f for f in all_files if os.path.getsize(os.path.join(directory, f)) <= 25 * 1024]\n",
    "\n",
    "test_size = max(1, int(0.1 * len(all_files)))\n",
    "\n",
    "test_files = random.sample(small_files, min(test_size, len(small_files)))\n",
    "\n",
    "train_files = [f for f in all_files if f not in test_files]\n",
    "\n",
    "for f in train_files:\n",
    "    shutil.move(os.path.join(directory, f), os.path.join(train_dir, f))\n",
    "\n",
    "for f in test_files:\n",
    "    shutil.move(os.path.join(directory, f), os.path.join(test_dir, f))\n",
    "\n",
    "print(f\"Training set: {len(train_files)} files\")\n",
    "print(f\"Test set: {len(test_files)} files (<= 25KB)\")"
   ],
   "metadata": {
    "collapsed": false,
    "is_executing": true
   },
   "id": "initial_id"
  }
 ],
 "metadata": {
  "kernelspec": {
   "display_name": "Python 3",
   "language": "python",
   "name": "python3"
  },
  "language_info": {
   "codemirror_mode": {
    "name": "ipython",
    "version": 2
   },
   "file_extension": ".py",
   "mimetype": "text/x-python",
   "name": "python",
   "nbconvert_exporter": "python",
   "pygments_lexer": "ipython2",
   "version": "2.7.6"
  }
 },
 "nbformat": 4,
 "nbformat_minor": 5
}
