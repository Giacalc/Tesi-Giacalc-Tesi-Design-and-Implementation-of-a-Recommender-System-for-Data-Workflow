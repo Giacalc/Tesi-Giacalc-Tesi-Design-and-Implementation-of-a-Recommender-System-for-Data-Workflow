{
 "cells": [
  {
   "cell_type": "code",
   "execution_count": null,
   "id": "initial_id",
   "metadata": {
    "collapsed": true
   },
   "outputs": [],
   "source": [
    "from google.colab import drive\n",
    "\n",
    "drive.mount('/content/drive')"
   ]
  },
  {
   "cell_type": "code",
   "execution_count": null,
   "outputs": [],
   "source": [
    "import json\n",
    "import re\n",
    "import os\n",
    "from rouge_score import rouge_scorer\n",
    "\n",
    "input_folder = \"/content/drive/My Drive/DatabaseTesi/TEST_RAG/afterValidationFirstLastCompl\"\n",
    "output_folder = \"/content/drive/My Drive/DatabaseTesi/TEST_RAG/afterValidationFirstLastComplRouge\"\n",
    "original_folder = \"/content/drive/My Drive/DatabaseTesi/TEST_RAG/test\"\n",
    "\n",
    "def compute_rouge_l(predicted_json, actual_json):\n",
    "    scorer = rouge_scorer.RougeScorer(['rougeL'])\n",
    "    scores = scorer.score(actual_json, predicted_json)\n",
    "    return scores['rougeL'].fmeasure\n",
    "\n",
    "def extract_clean_json(prediction_json):\n",
    "    json_match = re.search(r'```json\\n(.*?)\\n```', prediction_json, re.DOTALL)\n",
    "    if json_match:\n",
    "        return json_match.group(1)\n",
    "    else:\n",
    "        return prediction_json  \n",
    "\n",
    "def process_files(input_folder, output_folder, original_folder):\n",
    "    if not os.path.exists(output_folder):\n",
    "        os.makedirs(output_folder)\n",
    "\n",
    "    for filename in os.listdir(input_folder):\n",
    "        if filename.endswith(\".json\"):\n",
    "            prediction_file_path = os.path.join(input_folder, filename)\n",
    "\n",
    "            with open(prediction_file_path, 'r', encoding='utf-8') as f:\n",
    "                prediction_data = json.load(f)\n",
    "\n",
    "            original_filename = filename.replace(\"predictions_and_validation_results_\", \"\").replace(\".json\", \"\")\n",
    "            original_file_path = os.path.join(original_folder, original_filename)\n",
    "\n",
    "            if not os.path.exists(original_file_path):\n",
    "                print(f\"File originale non trovato: {original_file_path}\")\n",
    "                continue\n",
    "\n",
    "            with open(original_file_path, 'r', encoding='utf-8') as f:\n",
    "                original_data = json.load(f)\n",
    "\n",
    "            rouge_results = {}\n",
    "\n",
    "            for step_id, prediction in prediction_data.items():\n",
    "                original_step = original_data.get('steps', {}).get(str(step_id), None)\n",
    "                if not original_step:\n",
    "                    print(f\"Passo {step_id} non trovato nel file originale per {filename}.\")\n",
    "                    continue\n",
    "\n",
    "                predicted_json_content = extract_clean_json(prediction['json'])\n",
    "                original_json_content = json.dumps(original_step, indent=4)  \n",
    "\n",
    "                rouge_l_score = compute_rouge_l(predicted_json_content, original_json_content)\n",
    "\n",
    "                rouge_results[str(step_id)] = {\n",
    "                    \"step\": step_id,\n",
    "                    \"validation_score\": rouge_l_score\n",
    "                }\n",
    "\n",
    "            output_file_path = os.path.join(output_folder, f\"rouge_validation_results_{filename}\")\n",
    "            with open(output_file_path, 'w', encoding='utf-8') as f:\n",
    "                json.dump(rouge_results, f, ensure_ascii=False, indent=4)\n",
    "\n",
    "            print(f\"File di risultato scritto: {output_file_path}\")\n",
    "\n",
    "process_files(input_folder, output_folder, original_folder)"
   ],
   "metadata": {
    "collapsed": false
   },
   "id": "e7cd4d631de117cf"
  }
 ],
 "metadata": {
  "kernelspec": {
   "display_name": "Python 3",
   "language": "python",
   "name": "python3"
  },
  "language_info": {
   "codemirror_mode": {
    "name": "ipython",
    "version": 2
   },
   "file_extension": ".py",
   "mimetype": "text/x-python",
   "name": "python",
   "nbconvert_exporter": "python",
   "pygments_lexer": "ipython2",
   "version": "2.7.6"
  }
 },
 "nbformat": 4,
 "nbformat_minor": 5
}
